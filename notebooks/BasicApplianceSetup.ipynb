{
 "cells": [
  {
   "cell_type": "code",
   "execution_count": null,
   "metadata": {
    "collapsed": true
   },
   "outputs": [],
   "source": [
    "from wait_for import wait_for\n",
    "from collections import namedtuple\n",
    "from utils.conf import credentials, cfme_data\n",
    "from utils.appliance import IPAppliance\n",
    "from cfme.test_framework.sprout.client import SproutClient\n",
    "\n",
    "TimedCommand = namedtuple('TimedCommand', ['command', 'timeout'])\n",
    "\n",
    "\"\"\" The code snips below will allow you to auto configure 1 or more cfme appliance(s)\n",
    "in single/multiple or dedicated scenarios. Please grab x amount of unconfigured appliances\n",
    "from sprout that you require, making sure they are all of the same version number. To get\n",
    "appliances to show in 'My Appliances' on sprout create a credentials.local.yaml in conf/\n",
    "with the following lines.\n",
    "\n",
    "sprout:\n",
    "    username: Myusername\n",
    "    password: mypassword\n",
    "\n",
    "NOTE: This setups take 5+ mins to processes, please run 'tail -f log/cfme.log' to follow.\n",
    "Or Wait until the cells have generated a run number and an out\"\"\"\n",
    "\n",
    "# provider = cfme_data['basic_info']['ha_provider'] # Uncomment this line if you want a HA environment\n",
    "\n",
    "app_cfme_ver = '5.8.2.0' #Change to specifiy your desired version\n",
    "\n",
    "sprout_client = SproutClient.from_config()\n",
    "apps, request_id = sprout_client.provision_appliances(version=str(app_cfme_ver),\n",
    "    count=3, preconfigured=False, lease_time=360, provider=provider)\n",
    "\n",
    "print apps\n",
    "\n",
    "app0_ip = apps[0]\n",
    "app1_ip = apps[1]\n",
    "app2_ip = apps[2]\n",
    "#Comment out the above 6 lines and use the 3 below if you want to use your own appliances\n",
    "\n",
    "#app0_ip = IPAppliance('10.8.198.132') #1st appliance ip here (Used in single/dedicated)\n",
    "#app1_ip = IPAppliance('10.8.198.192') #2nd appliance ip here (Used in multi/dedicated)\n",
    "#app2_ip = IPAppliance('10.8.198.125') #3rd appliance ip here (Used for HA scenario)\n",
    "\n",
    "dbname = 'vmdb_production' #Change if you require a different databasename\n",
    "\n",
    "dbuser = 'root' #Change if you require a different username\n",
    "\n",
    "pwd = credentials['database']['password'] #Change to set password for your database\n",
    "\n",
    "region = '0' #Change this if you require a different region number\n",
    "\n",
    "ip0 = app0_ip.address #Used when fetching v2_key and HA nodes\n",
    "ip2 = app2_ip.address #Used for HA nodes\n",
    "opt = '5' if app0_ip.version >= \"5.8\" else '8'\n",
    "port = (ip0, '') if app0_ip.version >= \"5.8\" else (ip0,)\n",
    "rep = '6' if cfme_version >= \"5.8\" else '9'\n",
    "mon = '9' if cfme_version >= \"5.8\" else '12'"
   ]
  },
  {
   "cell_type": "code",
   "execution_count": null,
   "metadata": {
    "collapsed": true
   },
   "outputs": [],
   "source": [
    "'''Run this cell if you require a single appliance configuration'''\n",
    "\n",
    "command_set = ('ap', '', opt, '1', '1', 'y', '1', 'n', region, pwd,\n",
    "                    TimedCommand(pwd, 360), '')\n",
    "\n",
    "app0_ip.appliance_console.run_commands(command_set)\n",
    "app0_ip.wait_for_evm_service()\n",
    "app0_ip.wait_for_web_ui()\n"
   ]
  },
  {
   "cell_type": "code",
   "execution_count": null,
   "metadata": {
    "collapsed": true
   },
   "outputs": [],
   "source": [
    "'''Run this after the first two cells have completed for a multi appliance single region\n",
    "configuration (distributed setup, 1st appliance has a local database and workers, 2nd\n",
    "appliance has workers pointing at 1st appliance)'''\n",
    "\n",
    "command_set = ('ap', '', opt, '2', ip0, '', pwd, '', '3') + port + (dbname, dbuser, pwd,\n",
    "                    TimedCommand(pwd, 360), '')\n",
    "\n",
    "app1_ip.appliance_console.run_commands(command_set)\n",
    "app1_ip.wait_for_evm_service()\n",
    "app1_ip.wait_for_web_ui()"
   ]
  },
  {
   "cell_type": "code",
   "execution_count": null,
   "metadata": {
    "collapsed": true
   },
   "outputs": [],
   "source": [
    "'''Run this after cell 1 for multi appliance single region using dedicated database\n",
    "(1st appliance database only and 2nd appliance workers only pointing at the dedicated\n",
    "database)'''\n",
    "\n",
    "command_set = ('ap', '', opt, '1', '1', 'y', '1', 'y', pwd, TimedCommand(pwd, 360), '')\n",
    "#Configures dedicated db\n",
    "\n",
    "app0_ip.appliance_console.run_commands(command_set)\n",
    "wait_for(lambda: app0_ip.db.is_dedicated_active)\n",
    "\n",
    "command_set_0 = ('ap', '', opt, '1', '2', region, 'y') + port + (dbname, dbuser, pwd,\n",
    "                    TimedCommand(pwd, 360), '') #Creates reigion in dedicated db\n",
    "\n",
    "app1_ip.appliance_console.run_commands(command_set_0)\n",
    "app1_ip.wait_for_evm_service()\n",
    "app1_ip.wait_for_web_ui()\n"
   ]
  },
  {
   "cell_type": "code",
   "execution_count": null,
   "metadata": {
    "collapsed": true
   },
   "outputs": [],
   "source": [
    "'''Run this after cell 1+4 have completed to turn your env in to HA configuration consisting\n",
    "of 2 dedicated database's (1 for failover) and 1 worker appliance pointing at the databases'''\n",
    "\n",
    "command_set0 = ('ap', '', rep, '1', '1', dbname, dbuser, pwd, pwd, ip0, 'y', '') \n",
    "#Configures primary database\n",
    "\n",
    "app0_ip.appliance_console.run_commands(command_set0)\n",
    "\n",
    "command_set1 = ('ap', '', rep, '2', '1', '2', dbname, dbuser, pwd, pwd, ip0, ip2, 'y',\n",
    "                    'y', '') #Configures standby database\n",
    "\n",
    "app2_ip.appliance_console.run_commands(command_set1)\n",
    "\n",
    "command_set2 = ('ap', '', mon, '1', '')\n",
    "\n",
    "app1_ip.appliance_console.run_commands(command_set2)\n"
   ]
  },
  {
   "cell_type": "code",
   "execution_count": null,
   "metadata": {
    "collapsed": true
   },
   "outputs": [],
   "source": []
  }
 ],
 "metadata": {
  "kernelspec": {
   "display_name": "Python 2",
   "language": "python",
   "name": "python2"
  },
  "language_info": {
   "codemirror_mode": {
    "name": "ipython",
    "version": 2
   },
   "file_extension": ".py",
   "mimetype": "text/x-python",
   "name": "python",
   "nbconvert_exporter": "python",
   "pygments_lexer": "ipython2",
   "version": "2.7.13"
  }
 },
 "nbformat": 4,
 "nbformat_minor": 2
}
