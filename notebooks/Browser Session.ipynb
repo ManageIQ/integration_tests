{
 "metadata": {
  "name": ""
 },
 "nbformat": 3,
 "nbformat_minor": 0,
 "worksheets": [
  {
   "cells": [
    {
     "cell_type": "markdown",
     "metadata": {},
     "source": [
      "**Don't forget to make a copy before starting**\n",
      "\n",
      "Start up the browser session, and log in."
     ]
    },
    {
     "cell_type": "code",
     "collapsed": false,
     "input": [
      "from utils.appliance import current_appliance\n",
      "from utils.appliance.implementations.ui import navigate_to\n",
      "from utils import providers, version, conf\n",
      "from cfme.configure import configuration \n",
      "# conf.env['base_url'] = 'http://10.8.59.157'\n",
      "navigate_to(current_appliance.server, 'Dashboard')\n",
      "\n",
      "\n",
      "# ADD SINGLE PROVIDER\n",
      "# providers.setup_provider(provider_yaml_key)\n",
      "\n",
      "# ADD ALL INFRA PROVIDERS\n",
      "# providers.setup_infrastructure_providers(validate=False, check_existing=False)\n",
      "\n",
      "# ADD ALL CLOUD PROVIDERS\n",
      "# providers.setup_cloud_providers(validate=False, check_existing=False)\n"
     ],
     "language": "python",
     "metadata": {},
     "outputs": [],
     "prompt_number": 1
    },
    {
     "cell_type": "markdown",
     "metadata": {},
     "source": [
      "Now, work with `browser`, `nav`, etc. to hack on CFME, interactively."
     ]
    },
    {
     "cell_type": "code",
     "collapsed": false,
     "input": [],
     "language": "python",
     "metadata": {},
     "outputs": [],
     "prompt_number": 2
    }
   ],
   "metadata": {}
  }
 ]
}
