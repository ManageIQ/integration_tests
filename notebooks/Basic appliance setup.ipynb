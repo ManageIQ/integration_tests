{
 "cells": [
  {
   "cell_type": "code",
   "execution_count": 18,
   "metadata": {},
   "outputs": [],
   "source": [
    "from wait_for import wait_for\n",
    "from collections import namedtuple\n",
    "from utils.conf import credentials\n",
    "from utils.appliance import IPAppliance\n",
    "\n",
    "TimedCommand = namedtuple('TimedCommand', ['command', 'timeout'])\n",
    "\n",
    "\"\"\" The code snips below will allow you to auto configure 1 or more cfme appliance(s)\n",
    "in single/multiple or dedicated scenarios. Please grab x amount of unconfigured appliances from sprout\n",
    "that you require, making sure they are all of the same version number.\n",
    "\n",
    "NOTE: This setups take 5+ mins to processes, please run 'tail -f log/cfme.log' to follow. Once completed the cell will\n",
    "get a run number and out put will return True\"\"\"\n",
    "\n",
    "app0_ip = IPAppliance('10.8.198.6') #Add your 1st appliance ip here (Used in single and dedicated db scenarios)\n",
    "\n",
    "app1_ip = IPAppliance('10.8.196.243') #Add your 2nd appliance ip here (Used in multi appliance and dedicated db scenarios)\n",
    "\n",
    "app2_ip = IPAppliance('10.8.196.250') #Add your 3rd appliance ip here (Used for HA scenario)\n",
    "\n",
    "dbname = 'vmdb_production' #Change if you require a different databasename\n",
    "\n",
    "dbuser = 'root' #Change if you require a different username\n",
    "\n",
    "pwd = credentials['database']['password'] #Change this if you want a different password for your database\n",
    "\n",
    "region = '0' #Change this if you require a different region number\n",
    "\n",
    "ip0 = app0_ip.address #Used when fetching v2_key and HA nodes\n",
    "ip2 = app2_ip.address #Used for HA nodes\n",
    "opt = '5' if app0_ip.version >= \"5.8\" else '8'\n",
    "port = (ip, '') if app0_ip.version >= \"5.8\" else (ip,)"
   ]
  },
  {
   "cell_type": "code",
   "execution_count": 13,
   "metadata": {},
   "outputs": [
    {
     "data": {
      "text/plain": [
       "True"
      ]
     },
     "execution_count": 13,
     "metadata": {},
     "output_type": "execute_result"
    }
   ],
   "source": [
    "'''Run this cell if you require a single appliance configuration'''\n",
    "\n",
    "command_set = ('ap', '', opt, '1', '1', 'y', '1', 'n', region, pwd, TimedCommand(pwd, 360), '')\n",
    "\n",
    "app0_ip.appliance_console.run_commands(command_set)\n",
    "app0_ip.wait_for_evm_service()\n",
    "app0_ip.wait_for_web_ui()\n"
   ]
  },
  {
   "cell_type": "code",
   "execution_count": 15,
   "metadata": {},
   "outputs": [
    {
     "data": {
      "text/plain": [
       "True"
      ]
     },
     "execution_count": 15,
     "metadata": {},
     "output_type": "execute_result"
    }
   ],
   "source": [
    "'''Run this after the first two cells have completed for a multi appliance single region configuration\n",
    "(distributed setup, 1st appliance has a local database and workers, 2nd appliance has workers pointing at 1st appliance)'''\n",
    "\n",
    "command_set = ('ap', '', opt, '2', ip0, '', pwd, '', '3') + port + ('', '', pwd, TimedCommand(pwd, 360), '')\n",
    "\n",
    "app1_ip.appliance_console.run_commands(command_set)\n",
    "app1_ip.wait_for_evm_service()\n",
    "app1_ip.wait_for_web_ui()"
   ]
  },
  {
   "cell_type": "code",
   "execution_count": 19,
   "metadata": {},
   "outputs": [
    {
     "data": {
      "text/plain": [
       "True"
      ]
     },
     "execution_count": 19,
     "metadata": {},
     "output_type": "execute_result"
    }
   ],
   "source": [
    "'''Run this after cell 1 for multi appliance single region using dedicated database (1st appliance database only\n",
    "and 2nd appliance workers only pointing at the dedicated database)'''\n",
    "\n",
    "command_set = ('ap', '', opt, '1', '1', 'y', '1', 'y', pwd, TimedCommand(pwd, 360), '') #Configures dedicated db\n",
    "\n",
    "app0_ip.appliance_console.run_commands(command_set)\n",
    "wait_for(lambda: app0_ip.db.is_dedicated_active)\n",
    "\n",
    "command_set_0 = ('ap', '', opt, '1', '2', region, 'y') + port + ('', '', pwd, TimedCommand(pwd, 360), '') #Creates reigion in dedicated db\n",
    "\n",
    "app1_ip.appliance_console.run_commands(command_set_0)\n",
    "app1_ip.wait_for_evm_service()\n",
    "app1_ip.wait_for_web_ui()\n"
   ]
  },
  {
   "cell_type": "code",
   "execution_count": null,
   "metadata": {
    "collapsed": true
   },
   "outputs": [],
   "source": [
    "'''Run this after cell 1+4 have completed to turn your env in to HA configuration consisting of 2 dedicated database's\n",
    "(1 for failover) and 1 worker appliance pointing at the databases'''\n",
    "\n",
    "command_set0 = ('ap', '', '6', '1', '1', dbname, dbuser, pwd, pwd, ip0, 'y', '') #Configures primary database\n",
    "\n",
    "app0_ip.appliance_console.run_commands(command_set0)\n",
    "\n",
    "command_set1 = ('ap', '', '6', 'y', '1', '2', dbname, dbuser, pwd, pwd, ip0, ip2, 'y', 'y', '') #Configures standby database\n",
    "\n",
    "app2_ip.appliance_console.run_commands(command_set1)\n",
    "\n",
    "command_set2 = ('ap', '', '9', '1', '')\n",
    "\n",
    "app1_ip.appliance_console.run_commands(command_set2)\n"
   ]
  }
 ],
 "metadata": {
  "kernelspec": {
   "display_name": "Python 2",
   "language": "python",
   "name": "python2"
  },
  "language_info": {
   "codemirror_mode": {
    "name": "ipython",
    "version": 2
   },
   "file_extension": ".py",
   "mimetype": "text/x-python",
   "name": "python",
   "nbconvert_exporter": "python",
   "pygments_lexer": "ipython2",
   "version": "2.7.13"
  }
 },
 "nbformat": 4,
 "nbformat_minor": 2
}
